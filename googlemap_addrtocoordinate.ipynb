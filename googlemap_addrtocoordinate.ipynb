{
 "cells": [
  {
   "cell_type": "code",
   "execution_count": null,
   "metadata": {},
   "outputs": [],
   "source": [
    "import requests\n",
    "import bs4"
   ]
  },
  {
   "cell_type": "code",
   "execution_count": null,
   "metadata": {},
   "outputs": [],
   "source": [
    "quest=requests.get(\"https://www.google.com/maps/place?q=優必闊科技股份有限公司\",\n",
    "                    headers={\"user-agent\":\"Mozilla/5.0 (Windows NT 10.0; Win64; x64) AppleWebKit/537.36 (KHTML, like Gecko) Chrome/104.0.0.0 Safari/537.36\"})\n",
    "                                          \n",
    "data=bs4.BeautifulSoup(quest.text,\"html.parser\")\n",
    "find=data.find(\"meta\",{'itemprop':'image'})['content']\n",
    "lat_long=find[50:72].split(\"%2C\")\n",
    "lat=float(lat_long[0])\n",
    "long_=float(lat_long[1])+0.0002\n",
    "print(lat,long_)"
   ]
  },
  {
   "cell_type": "code",
   "execution_count": null,
   "metadata": {},
   "outputs": [],
   "source": [
    "def get_addr_to_coodinate(addr):\n",
    "    quest=requests.get(\"https://www.google.com/maps/place?q=\"+addr,\n",
    "                    headers={\"user-agent\":\"Mozilla/5.0 (Windows NT 10.0; Win64; x64) AppleWebKit/537.36 (KHTML, like Gecko) Chrome/104.0.0.0 Safari/537.36\"})\n",
    "                                          \n",
    "    data=bs4.BeautifulSoup(quest.text,\"html.parser\")\n",
    "    find=data.find(\"meta\",{'itemprop':'image'})['content']\n",
    "    lat_long=find[50:72].split(\"%2C\")\n",
    "    lat=float(lat_long[0])\n",
    "    long_=float(lat_long[1])+0.0002\n",
    "    return(str(lat)+\" \"+str(long_))\n",
    "\n",
    "\n",
    "get_addr_to_coodinate(\"優必闊科技股份有限公司\")"
   ]
  }
 ],
 "metadata": {
  "language_info": {
   "name": "python"
  },
  "orig_nbformat": 4
 },
 "nbformat": 4,
 "nbformat_minor": 2
}
